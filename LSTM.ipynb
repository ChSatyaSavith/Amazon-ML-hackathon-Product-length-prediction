{
 "cells": [
  {
   "cell_type": "code",
   "execution_count": 1,
   "id": "01e55883-8f65-4729-8a47-e7eed964de53",
   "metadata": {},
   "outputs": [],
   "source": [
    "import pandas as pd\n",
    "import numpy as np\n",
    "import tensorflow as tf\n",
    "from tensorflow.keras import Model\n",
    "from tensorflow.keras.layers import Bidirectional, LSTM, Dense, Dropout, Concatenate\n",
    "from tensorflow.keras.models import Sequential\n",
    "from tensorflow.keras.optimizers import Adam\n",
    "from sklearn.model_selection import train_test_split\n",
    "from sklearn.metrics import accuracy_score"
   ]
  },
  {
   "cell_type": "code",
   "execution_count": 2,
   "id": "a4dbe15c-a090-437a-a8c1-42e44aeab461",
   "metadata": {},
   "outputs": [
    {
     "name": "stdout",
     "output_type": "stream",
     "text": [
      "C:\\Users\\templ\\OneDrive\\Desktop\\AI\\Hackathon\\Amazon\n"
     ]
    }
   ],
   "source": [
    "import os\n",
    "\n",
    "os.chdir('..') # Change to parent directory\n",
    "cwd = os.getcwd() # Get current working directory\n",
    "print(cwd)"
   ]
  },
  {
   "cell_type": "code",
   "execution_count": 3,
   "id": "85a54d2f-ed23-4456-b7cd-dc0462d5a976",
   "metadata": {},
   "outputs": [],
   "source": [
    "# Read the dataset using Dask\n",
    "dataset = pd.read_csv('dataset/universal_train.csv', on_bad_lines='skip', encoding='utf-8', engine='python')\n",
    "# dataset =  dataset.sample(n=20000)"
   ]
  },
  {
   "cell_type": "code",
   "execution_count": 4,
   "id": "1c4eb681-3ed6-4f0f-9df0-f92a3f99b395",
   "metadata": {},
   "outputs": [
    {
     "data": {
      "text/plain": [
       "Index(['Unnamed: 0', '0', '1', '2', '3', '4', '5', '6', '7', '8', '9', '10',\n",
       "       'PRODUCT_TYPE_ID', 'PRODUCT_LENGTH', 'PRODUCT_LENGTH_NONORM'],\n",
       "      dtype='object')"
      ]
     },
     "execution_count": 4,
     "metadata": {},
     "output_type": "execute_result"
    }
   ],
   "source": [
    "dataset.columns"
   ]
  },
  {
   "cell_type": "code",
   "execution_count": 5,
   "id": "48654966-22e5-4b6c-8fdb-15e96812df3f",
   "metadata": {},
   "outputs": [],
   "source": [
    "dataset = dataset.drop(columns = ['Unnamed: 0'],axis = 1)"
   ]
  },
  {
   "cell_type": "code",
   "execution_count": 6,
   "id": "fb49c892-9748-4143-a366-25187d83f018",
   "metadata": {},
   "outputs": [
    {
     "data": {
      "text/html": [
       "<div>\n",
       "<style scoped>\n",
       "    .dataframe tbody tr th:only-of-type {\n",
       "        vertical-align: middle;\n",
       "    }\n",
       "\n",
       "    .dataframe tbody tr th {\n",
       "        vertical-align: top;\n",
       "    }\n",
       "\n",
       "    .dataframe thead th {\n",
       "        text-align: right;\n",
       "    }\n",
       "</style>\n",
       "<table border=\"1\" class=\"dataframe\">\n",
       "  <thead>\n",
       "    <tr style=\"text-align: right;\">\n",
       "      <th></th>\n",
       "      <th>0</th>\n",
       "      <th>1</th>\n",
       "      <th>2</th>\n",
       "      <th>3</th>\n",
       "      <th>4</th>\n",
       "      <th>5</th>\n",
       "      <th>6</th>\n",
       "      <th>7</th>\n",
       "      <th>8</th>\n",
       "      <th>9</th>\n",
       "      <th>10</th>\n",
       "      <th>PRODUCT_TYPE_ID</th>\n",
       "      <th>PRODUCT_LENGTH</th>\n",
       "      <th>PRODUCT_LENGTH_NONORM</th>\n",
       "    </tr>\n",
       "  </thead>\n",
       "  <tbody>\n",
       "    <tr>\n",
       "      <th>0</th>\n",
       "      <td>0.033740</td>\n",
       "      <td>0.053593</td>\n",
       "      <td>0.119451</td>\n",
       "      <td>-0.002144</td>\n",
       "      <td>-0.023888</td>\n",
       "      <td>-0.009354</td>\n",
       "      <td>-0.013213</td>\n",
       "      <td>-0.011067</td>\n",
       "      <td>-0.052480</td>\n",
       "      <td>-0.005460</td>\n",
       "      <td>-0.048928</td>\n",
       "      <td>-0.592630</td>\n",
       "      <td>-0.001440</td>\n",
       "      <td>2125.980000</td>\n",
       "    </tr>\n",
       "    <tr>\n",
       "      <th>1</th>\n",
       "      <td>0.021798</td>\n",
       "      <td>0.017311</td>\n",
       "      <td>-0.010543</td>\n",
       "      <td>0.044631</td>\n",
       "      <td>-0.013809</td>\n",
       "      <td>0.007838</td>\n",
       "      <td>-0.019112</td>\n",
       "      <td>0.012684</td>\n",
       "      <td>-0.002693</td>\n",
       "      <td>0.000218</td>\n",
       "      <td>0.007681</td>\n",
       "      <td>-0.314022</td>\n",
       "      <td>-0.002721</td>\n",
       "      <td>393.700000</td>\n",
       "    </tr>\n",
       "    <tr>\n",
       "      <th>2</th>\n",
       "      <td>0.021713</td>\n",
       "      <td>0.010882</td>\n",
       "      <td>0.012488</td>\n",
       "      <td>-0.015654</td>\n",
       "      <td>0.011082</td>\n",
       "      <td>0.004986</td>\n",
       "      <td>-0.017478</td>\n",
       "      <td>-0.003682</td>\n",
       "      <td>-0.005930</td>\n",
       "      <td>-0.000192</td>\n",
       "      <td>-0.005423</td>\n",
       "      <td>0.891683</td>\n",
       "      <td>-0.002459</td>\n",
       "      <td>748.031495</td>\n",
       "    </tr>\n",
       "    <tr>\n",
       "      <th>3</th>\n",
       "      <td>0.041322</td>\n",
       "      <td>0.102819</td>\n",
       "      <td>-0.029833</td>\n",
       "      <td>0.067824</td>\n",
       "      <td>0.101342</td>\n",
       "      <td>-0.023887</td>\n",
       "      <td>0.054705</td>\n",
       "      <td>-0.005680</td>\n",
       "      <td>-0.031651</td>\n",
       "      <td>-0.000720</td>\n",
       "      <td>-0.008348</td>\n",
       "      <td>-0.253258</td>\n",
       "      <td>-0.002430</td>\n",
       "      <td>787.401574</td>\n",
       "    </tr>\n",
       "    <tr>\n",
       "      <th>4</th>\n",
       "      <td>0.001786</td>\n",
       "      <td>0.004194</td>\n",
       "      <td>0.001742</td>\n",
       "      <td>-0.000216</td>\n",
       "      <td>-0.001976</td>\n",
       "      <td>0.006235</td>\n",
       "      <td>-0.000607</td>\n",
       "      <td>0.000235</td>\n",
       "      <td>-0.002081</td>\n",
       "      <td>0.000451</td>\n",
       "      <td>0.008637</td>\n",
       "      <td>0.532392</td>\n",
       "      <td>-0.002570</td>\n",
       "      <td>598.424000</td>\n",
       "    </tr>\n",
       "    <tr>\n",
       "      <th>...</th>\n",
       "      <td>...</td>\n",
       "      <td>...</td>\n",
       "      <td>...</td>\n",
       "      <td>...</td>\n",
       "      <td>...</td>\n",
       "      <td>...</td>\n",
       "      <td>...</td>\n",
       "      <td>...</td>\n",
       "      <td>...</td>\n",
       "      <td>...</td>\n",
       "      <td>...</td>\n",
       "      <td>...</td>\n",
       "      <td>...</td>\n",
       "      <td>...</td>\n",
       "    </tr>\n",
       "    <tr>\n",
       "      <th>2249693</th>\n",
       "      <td>0.019544</td>\n",
       "      <td>0.061277</td>\n",
       "      <td>-0.024850</td>\n",
       "      <td>0.036257</td>\n",
       "      <td>0.073269</td>\n",
       "      <td>-0.017734</td>\n",
       "      <td>0.047925</td>\n",
       "      <td>0.000918</td>\n",
       "      <td>0.012451</td>\n",
       "      <td>-0.000118</td>\n",
       "      <td>-0.004641</td>\n",
       "      <td>-0.249980</td>\n",
       "      <td>-0.002139</td>\n",
       "      <td>1181.100000</td>\n",
       "    </tr>\n",
       "    <tr>\n",
       "      <th>2249694</th>\n",
       "      <td>0.020147</td>\n",
       "      <td>0.015623</td>\n",
       "      <td>0.021427</td>\n",
       "      <td>-0.000404</td>\n",
       "      <td>0.003816</td>\n",
       "      <td>0.009220</td>\n",
       "      <td>-0.025823</td>\n",
       "      <td>-0.002782</td>\n",
       "      <td>-0.011322</td>\n",
       "      <td>0.000861</td>\n",
       "      <td>0.017507</td>\n",
       "      <td>-0.148118</td>\n",
       "      <td>-0.002919</td>\n",
       "      <td>125.984252</td>\n",
       "    </tr>\n",
       "    <tr>\n",
       "      <th>2249695</th>\n",
       "      <td>0.063208</td>\n",
       "      <td>0.032880</td>\n",
       "      <td>0.119688</td>\n",
       "      <td>0.024788</td>\n",
       "      <td>-0.071651</td>\n",
       "      <td>-0.024792</td>\n",
       "      <td>0.045420</td>\n",
       "      <td>-0.009083</td>\n",
       "      <td>0.004295</td>\n",
       "      <td>-0.002458</td>\n",
       "      <td>-0.022181</td>\n",
       "      <td>-0.611792</td>\n",
       "      <td>-0.002125</td>\n",
       "      <td>1200.000000</td>\n",
       "    </tr>\n",
       "    <tr>\n",
       "      <th>2249696</th>\n",
       "      <td>0.033887</td>\n",
       "      <td>0.054742</td>\n",
       "      <td>0.086165</td>\n",
       "      <td>-0.033040</td>\n",
       "      <td>-0.014690</td>\n",
       "      <td>-0.016088</td>\n",
       "      <td>0.023324</td>\n",
       "      <td>0.032273</td>\n",
       "      <td>0.099026</td>\n",
       "      <td>-0.000348</td>\n",
       "      <td>-0.022752</td>\n",
       "      <td>-0.859387</td>\n",
       "      <td>-0.000867</td>\n",
       "      <td>2900.000000</td>\n",
       "    </tr>\n",
       "    <tr>\n",
       "      <th>2249697</th>\n",
       "      <td>0.005274</td>\n",
       "      <td>0.007339</td>\n",
       "      <td>0.013561</td>\n",
       "      <td>-0.001855</td>\n",
       "      <td>0.002032</td>\n",
       "      <td>0.004187</td>\n",
       "      <td>-0.014808</td>\n",
       "      <td>0.000081</td>\n",
       "      <td>-0.009082</td>\n",
       "      <td>-0.000322</td>\n",
       "      <td>-0.002877</td>\n",
       "      <td>0.848820</td>\n",
       "      <td>-0.001533</td>\n",
       "      <td>2000.000000</td>\n",
       "    </tr>\n",
       "  </tbody>\n",
       "</table>\n",
       "<p>2249698 rows × 14 columns</p>\n",
       "</div>"
      ],
      "text/plain": [
       "                0         1         2         3         4         5         6  \\\n",
       "0        0.033740  0.053593  0.119451 -0.002144 -0.023888 -0.009354 -0.013213   \n",
       "1        0.021798  0.017311 -0.010543  0.044631 -0.013809  0.007838 -0.019112   \n",
       "2        0.021713  0.010882  0.012488 -0.015654  0.011082  0.004986 -0.017478   \n",
       "3        0.041322  0.102819 -0.029833  0.067824  0.101342 -0.023887  0.054705   \n",
       "4        0.001786  0.004194  0.001742 -0.000216 -0.001976  0.006235 -0.000607   \n",
       "...           ...       ...       ...       ...       ...       ...       ...   \n",
       "2249693  0.019544  0.061277 -0.024850  0.036257  0.073269 -0.017734  0.047925   \n",
       "2249694  0.020147  0.015623  0.021427 -0.000404  0.003816  0.009220 -0.025823   \n",
       "2249695  0.063208  0.032880  0.119688  0.024788 -0.071651 -0.024792  0.045420   \n",
       "2249696  0.033887  0.054742  0.086165 -0.033040 -0.014690 -0.016088  0.023324   \n",
       "2249697  0.005274  0.007339  0.013561 -0.001855  0.002032  0.004187 -0.014808   \n",
       "\n",
       "                7         8         9        10  PRODUCT_TYPE_ID  \\\n",
       "0       -0.011067 -0.052480 -0.005460 -0.048928        -0.592630   \n",
       "1        0.012684 -0.002693  0.000218  0.007681        -0.314022   \n",
       "2       -0.003682 -0.005930 -0.000192 -0.005423         0.891683   \n",
       "3       -0.005680 -0.031651 -0.000720 -0.008348        -0.253258   \n",
       "4        0.000235 -0.002081  0.000451  0.008637         0.532392   \n",
       "...           ...       ...       ...       ...              ...   \n",
       "2249693  0.000918  0.012451 -0.000118 -0.004641        -0.249980   \n",
       "2249694 -0.002782 -0.011322  0.000861  0.017507        -0.148118   \n",
       "2249695 -0.009083  0.004295 -0.002458 -0.022181        -0.611792   \n",
       "2249696  0.032273  0.099026 -0.000348 -0.022752        -0.859387   \n",
       "2249697  0.000081 -0.009082 -0.000322 -0.002877         0.848820   \n",
       "\n",
       "         PRODUCT_LENGTH  PRODUCT_LENGTH_NONORM  \n",
       "0             -0.001440            2125.980000  \n",
       "1             -0.002721             393.700000  \n",
       "2             -0.002459             748.031495  \n",
       "3             -0.002430             787.401574  \n",
       "4             -0.002570             598.424000  \n",
       "...                 ...                    ...  \n",
       "2249693       -0.002139            1181.100000  \n",
       "2249694       -0.002919             125.984252  \n",
       "2249695       -0.002125            1200.000000  \n",
       "2249696       -0.000867            2900.000000  \n",
       "2249697       -0.001533            2000.000000  \n",
       "\n",
       "[2249698 rows x 14 columns]"
      ]
     },
     "execution_count": 6,
     "metadata": {},
     "output_type": "execute_result"
    }
   ],
   "source": [
    "dataset"
   ]
  },
  {
   "cell_type": "code",
   "execution_count": 7,
   "id": "8f73cf49-c9c1-410b-8545-9187e344e0d1",
   "metadata": {},
   "outputs": [],
   "source": [
    "train_df = dataset"
   ]
  },
  {
   "cell_type": "code",
   "execution_count": 13,
   "id": "208d19a4-4bf0-4958-8251-5a8b2bc39d9a",
   "metadata": {},
   "outputs": [],
   "source": [
    "\n",
    "# Split dataset into input features and output variable\n",
    "X1 = train_df.iloc[:, 0:11].values\n",
    "X2 = train_df.iloc[:, 11:12].values\n",
    "y = train_df.iloc[:, 12].values\n"
   ]
  },
  {
   "cell_type": "code",
   "execution_count": 14,
   "id": "08f13bfe-39c7-4ed4-ae23-c2fe8a66f8e5",
   "metadata": {},
   "outputs": [],
   "source": [
    "# Convert input features and output variable into numpy arrays\n",
    "X1 = np.array(X1)\n",
    "X2 = np.array(X2)\n",
    "y = np.array(y)\n",
    "\n",
    "# Split dataset into training and validation sets\n",
    "X1_train, X1_val, X2_train, X2_val, y_train, y_val = train_test_split(X1, X2, y, test_size=0.3, random_state=42)"
   ]
  },
  {
   "cell_type": "code",
   "execution_count": 15,
   "id": "9f81ea3f-5ece-4ed7-b9c2-da4c20d8f4df",
   "metadata": {},
   "outputs": [],
   "source": [
    "# Normalize input features using standardization\n",
    "mean = X1_train.mean(axis=0)\n",
    "std = X1_train.std(axis=0)\n",
    "X1_train = (X1_train - mean) / std\n",
    "X1_val = (X1_val - mean) / std"
   ]
  },
  {
   "cell_type": "code",
   "execution_count": null,
   "id": "02b19914-5578-4b7b-abfe-2a13973cab1d",
   "metadata": {},
   "outputs": [
    {
     "name": "stderr",
     "output_type": "stream",
     "text": [
      "WARNING:absl:`lr` is deprecated, please use `learning_rate` instead, or use the legacy optimizer, e.g.,tf.keras.optimizers.legacy.Adam.\n"
     ]
    },
    {
     "name": "stdout",
     "output_type": "stream",
     "text": [
      "Epoch 1/10\n",
      "24607/24607 [==============================] - 562s 23ms/step - loss: 1.3539 - val_loss: 0.1746\n",
      "Epoch 2/10\n",
      "24607/24607 [==============================] - 807s 33ms/step - loss: 1.3539 - val_loss: 0.1746\n",
      "Epoch 3/10\n",
      "24607/24607 [==============================] - 1183s 48ms/step - loss: 1.3539 - val_loss: 0.1746\n",
      "Epoch 4/10\n",
      "24607/24607 [==============================] - 1513s 62ms/step - loss: 1.3538 - val_loss: 0.1746\n",
      "Epoch 5/10\n",
      "24607/24607 [==============================] - 2390s 97ms/step - loss: 1.3538 - val_loss: 0.1746\n",
      "Epoch 6/10\n",
      "24607/24607 [==============================] - 2726s 111ms/step - loss: 1.3538 - val_loss: 0.1746\n",
      "Epoch 7/10\n",
      "24607/24607 [==============================] - 3219s 131ms/step - loss: 1.3538 - val_loss: 0.1746\n",
      "Epoch 8/10\n",
      "17315/24607 [====================>.........] - ETA: 16:55 - loss: 0.1400"
     ]
    }
   ],
   "source": [
    "# Define the model\n",
    "input1 = tf.keras.layers.Input(shape=(X1_train.shape[1],))\n",
    "input2 = tf.keras.layers.Input(shape=(X2_train.shape[1],))\n",
    "\n",
    "x1 = tf.keras.layers.Reshape((X1_train.shape[1], 1))(input1)\n",
    "x1 = tf.keras.layers.Bidirectional(tf.keras.layers.LSTM(64, return_sequences=True))(x1)\n",
    "x1 = tf.keras.layers.Dropout(0.2)(x1)\n",
    "x1 = tf.keras.layers.Bidirectional(tf.keras.layers.LSTM(32))(x1)\n",
    "\n",
    "x2 = tf.keras.layers.Dense(32)(input2)\n",
    "\n",
    "x = tf.keras.layers.Concatenate()([x1, x2])\n",
    "output = tf.keras.layers.Dense(1)(x)\n",
    "\n",
    "model = Model(inputs=[input1, input2], outputs=output)\n",
    "\n",
    "# Compile the model\n",
    "model.compile(loss='mean_squared_error', optimizer=Adam(lr=0.001))\n",
    "\n",
    "# Train the model\n",
    "history = model.fit([X1_train, X2_train], y_train, epochs=10, batch_size=64, validation_data=([X1_val, X2_val], y_val))"
   ]
  },
  {
   "cell_type": "code",
   "execution_count": null,
   "id": "2c8647ac-802a-44f1-8c19-0364b3b6fb12",
   "metadata": {},
   "outputs": [],
   "source": [
    "testdataset = pd.read_csv('dataset/universal_test.csv', on_bad_lines='skip', encoding='utf-8', engine='python')\n",
    "# dataset =  dataset.sample(n=20000)"
   ]
  },
  {
   "cell_type": "code",
   "execution_count": null,
   "id": "151c5d69-ff4b-40e9-86f6-be3b0407bb9b",
   "metadata": {},
   "outputs": [],
   "source": [
    "test_df = testdataset"
   ]
  },
  {
   "cell_type": "code",
   "execution_count": null,
   "id": "b5ced443-70e4-490a-9acf-1132b1b22ec9",
   "metadata": {},
   "outputs": [],
   "source": [
    "# Extract input features from test dataset\n",
    "X1_test = test_df.iloc[:, 0:11].values\n",
    "X2_test = test_df.iloc[:, 11:12].values\n"
   ]
  },
  {
   "cell_type": "code",
   "execution_count": null,
   "id": "dc114e24-2cda-4377-8494-88b0b7daa645",
   "metadata": {},
   "outputs": [],
   "source": [
    "# Normalize input features using standardization\n",
    "X1_test = (X1_test - mean) / std"
   ]
  },
  {
   "cell_type": "code",
   "execution_count": null,
   "id": "459655d0-0552-4019-88d2-370bc976ddef",
   "metadata": {},
   "outputs": [],
   "source": [
    "# Make predictions on test dataset\n",
    "y_pred = model.predict([X1_test, X2_test])"
   ]
  },
  {
   "cell_type": "code",
   "execution_count": null,
   "id": "803e8140-c8bb-498f-b471-d5f385907e27",
   "metadata": {},
   "outputs": [],
   "source": [
    "y_pred"
   ]
  },
  {
   "cell_type": "code",
   "execution_count": 25,
   "id": "fdd7a8cb-b23c-419d-878b-91e7d3ad27cd",
   "metadata": {},
   "outputs": [
    {
     "data": {
      "text/plain": [
       "array([[ 0.02763409,  0.02221391,  0.01022668, ..., -0.00181249,\n",
       "         0.00357117,  0.00246776],\n",
       "       [ 0.02797602,  0.02250296,  0.01050637, ..., -0.00158042,\n",
       "         0.0037972 ,  0.00269158],\n",
       "       [ 0.02802025,  0.02254035,  0.01054255, ..., -0.0015504 ,\n",
       "         0.00382643,  0.00272053],\n",
       "       ...,\n",
       "       [ 0.02790151,  0.02243997,  0.01044542, ..., -0.001631  ,\n",
       "         0.00374794,  0.0026428 ],\n",
       "       [ 0.02790757,  0.02244509,  0.01045038, ..., -0.00162688,\n",
       "         0.00375195,  0.00264677],\n",
       "       [ 0.02800181,  0.02252476,  0.01052747, ..., -0.00156292,\n",
       "         0.00381424,  0.00270846]])"
      ]
     },
     "execution_count": 25,
     "metadata": {},
     "output_type": "execute_result"
    }
   ],
   "source": [
    "y_pred1"
   ]
  },
  {
   "cell_type": "code",
   "execution_count": 27,
   "id": "46c51948-ad20-4191-8116-0b97d1f5060e",
   "metadata": {},
   "outputs": [],
   "source": [
    "y_pred1 = y_pred1*dataset[\"PRODUCT_LENGTH_NONORM\"].std()  + dataset[\"PRODUCT_LENGTH_NONORM\"].mean()"
   ]
  },
  {
   "cell_type": "code",
   "execution_count": 28,
   "id": "173fc4d3-5e0c-4450-9fdd-c08deade299c",
   "metadata": {},
   "outputs": [
    {
     "data": {
      "text/plain": [
       "array([[41424.42172249, 34098.04169398, 17895.087537  , ...,\n",
       "         1621.91900072,  8898.93893607,  7407.47394425],\n",
       "       [41886.60374133, 34488.7490929 , 18273.14449826, ...,\n",
       "         1935.61134148,  9204.45315439,  7710.00981119],\n",
       "       [41946.38614848, 34539.2863874 , 18322.04548156, ...,\n",
       "         1976.18687768,  9243.97086526,  7749.1422777 ],\n",
       "       ...,\n",
       "       [41785.87961718, 34403.60155589, 18190.75389293, ...,\n",
       "         1867.24782887,  9137.8719141 ,  7644.07764815],\n",
       "       [41794.07021915, 34410.52551368, 18197.45366481, ...,\n",
       "         1872.80695708,  9143.28611296,  7649.43906587],\n",
       "       [41921.45814761, 34518.2134032 , 18301.65480456, ...,\n",
       "         1959.26773625,  9227.49281465,  7732.82486584]])"
      ]
     },
     "execution_count": 28,
     "metadata": {},
     "output_type": "execute_result"
    }
   ],
   "source": [
    "y_pred1"
   ]
  },
  {
   "cell_type": "code",
   "execution_count": 35,
   "id": "5de16df1-4565-4426-a897-56d356b09b79",
   "metadata": {},
   "outputs": [
    {
     "data": {
      "text/html": [
       "<div>\n",
       "<style scoped>\n",
       "    .dataframe tbody tr th:only-of-type {\n",
       "        vertical-align: middle;\n",
       "    }\n",
       "\n",
       "    .dataframe tbody tr th {\n",
       "        vertical-align: top;\n",
       "    }\n",
       "\n",
       "    .dataframe thead th {\n",
       "        text-align: right;\n",
       "    }\n",
       "</style>\n",
       "<table border=\"1\" class=\"dataframe\">\n",
       "  <thead>\n",
       "    <tr style=\"text-align: right;\">\n",
       "      <th></th>\n",
       "      <th>PRODUCT_ID</th>\n",
       "    </tr>\n",
       "  </thead>\n",
       "  <tbody>\n",
       "    <tr>\n",
       "      <th>0</th>\n",
       "      <td>604373</td>\n",
       "    </tr>\n",
       "    <tr>\n",
       "      <th>1</th>\n",
       "      <td>1729783</td>\n",
       "    </tr>\n",
       "    <tr>\n",
       "      <th>2</th>\n",
       "      <td>1871949</td>\n",
       "    </tr>\n",
       "    <tr>\n",
       "      <th>3</th>\n",
       "      <td>1107571</td>\n",
       "    </tr>\n",
       "    <tr>\n",
       "      <th>4</th>\n",
       "      <td>624253</td>\n",
       "    </tr>\n",
       "    <tr>\n",
       "      <th>...</th>\n",
       "      <td>...</td>\n",
       "    </tr>\n",
       "    <tr>\n",
       "      <th>734731</th>\n",
       "      <td>921419</td>\n",
       "    </tr>\n",
       "    <tr>\n",
       "      <th>734732</th>\n",
       "      <td>2456362</td>\n",
       "    </tr>\n",
       "    <tr>\n",
       "      <th>734733</th>\n",
       "      <td>841529</td>\n",
       "    </tr>\n",
       "    <tr>\n",
       "      <th>734734</th>\n",
       "      <td>1190194</td>\n",
       "    </tr>\n",
       "    <tr>\n",
       "      <th>734735</th>\n",
       "      <td>1040810</td>\n",
       "    </tr>\n",
       "  </tbody>\n",
       "</table>\n",
       "<p>734736 rows × 1 columns</p>\n",
       "</div>"
      ],
      "text/plain": [
       "        PRODUCT_ID\n",
       "0           604373\n",
       "1          1729783\n",
       "2          1871949\n",
       "3          1107571\n",
       "4           624253\n",
       "...            ...\n",
       "734731      921419\n",
       "734732     2456362\n",
       "734733      841529\n",
       "734734     1190194\n",
       "734735     1040810\n",
       "\n",
       "[734736 rows x 1 columns]"
      ]
     },
     "execution_count": 35,
     "metadata": {},
     "output_type": "execute_result"
    }
   ],
   "source": [
    "test = pd.read_csv('dataset/test.csv', on_bad_lines='skip', encoding='utf-8', engine='python')\n",
    "test = test.drop(columns = ['PRODUCT_TYPE_ID','TITLE','BULLET_POINTS','DESCRIPTION'],axis = 1)\n",
    "test"
   ]
  },
  {
   "cell_type": "code",
   "execution_count": 37,
   "id": "8b7667ce-7a7e-4f82-b966-51f9019ef6db",
   "metadata": {},
   "outputs": [
    {
     "data": {
      "text/html": [
       "<div>\n",
       "<style scoped>\n",
       "    .dataframe tbody tr th:only-of-type {\n",
       "        vertical-align: middle;\n",
       "    }\n",
       "\n",
       "    .dataframe tbody tr th {\n",
       "        vertical-align: top;\n",
       "    }\n",
       "\n",
       "    .dataframe thead th {\n",
       "        text-align: right;\n",
       "    }\n",
       "</style>\n",
       "<table border=\"1\" class=\"dataframe\">\n",
       "  <thead>\n",
       "    <tr style=\"text-align: right;\">\n",
       "      <th></th>\n",
       "      <th>PRODUCT_ID</th>\n",
       "      <th>PRODUCT_LENGTH</th>\n",
       "    </tr>\n",
       "  </thead>\n",
       "  <tbody>\n",
       "    <tr>\n",
       "      <th>0</th>\n",
       "      <td>604373</td>\n",
       "      <td>41424.421722</td>\n",
       "    </tr>\n",
       "    <tr>\n",
       "      <th>1</th>\n",
       "      <td>1729783</td>\n",
       "      <td>41886.603741</td>\n",
       "    </tr>\n",
       "    <tr>\n",
       "      <th>2</th>\n",
       "      <td>1871949</td>\n",
       "      <td>41946.386148</td>\n",
       "    </tr>\n",
       "    <tr>\n",
       "      <th>3</th>\n",
       "      <td>1107571</td>\n",
       "      <td>41823.484771</td>\n",
       "    </tr>\n",
       "    <tr>\n",
       "      <th>4</th>\n",
       "      <td>624253</td>\n",
       "      <td>41746.889679</td>\n",
       "    </tr>\n",
       "    <tr>\n",
       "      <th>...</th>\n",
       "      <td>...</td>\n",
       "      <td>...</td>\n",
       "    </tr>\n",
       "    <tr>\n",
       "      <th>734731</th>\n",
       "      <td>921419</td>\n",
       "      <td>41903.142574</td>\n",
       "    </tr>\n",
       "    <tr>\n",
       "      <th>734732</th>\n",
       "      <td>2456362</td>\n",
       "      <td>41736.236768</td>\n",
       "    </tr>\n",
       "    <tr>\n",
       "      <th>734733</th>\n",
       "      <td>841529</td>\n",
       "      <td>41785.879617</td>\n",
       "    </tr>\n",
       "    <tr>\n",
       "      <th>734734</th>\n",
       "      <td>1190194</td>\n",
       "      <td>41794.070219</td>\n",
       "    </tr>\n",
       "    <tr>\n",
       "      <th>734735</th>\n",
       "      <td>1040810</td>\n",
       "      <td>41921.458148</td>\n",
       "    </tr>\n",
       "  </tbody>\n",
       "</table>\n",
       "<p>734736 rows × 2 columns</p>\n",
       "</div>"
      ],
      "text/plain": [
       "        PRODUCT_ID  PRODUCT_LENGTH\n",
       "0           604373    41424.421722\n",
       "1          1729783    41886.603741\n",
       "2          1871949    41946.386148\n",
       "3          1107571    41823.484771\n",
       "4           624253    41746.889679\n",
       "...            ...             ...\n",
       "734731      921419    41903.142574\n",
       "734732     2456362    41736.236768\n",
       "734733      841529    41785.879617\n",
       "734734     1190194    41794.070219\n",
       "734735     1040810    41921.458148\n",
       "\n",
       "[734736 rows x 2 columns]"
      ]
     },
     "execution_count": 37,
     "metadata": {},
     "output_type": "execute_result"
    }
   ],
   "source": [
    "test[\"PRODUCT_LENGTH\"] = y_pred1\n",
    "test"
   ]
  },
  {
   "cell_type": "code",
   "execution_count": null,
   "id": "e8475d48-3c10-4d35-8751-7b2bfefd5bab",
   "metadata": {},
   "outputs": [],
   "source": [
    "test[\"PRODUCT_LENGTH\"] = test[\"PRODUCT_LENGTH\"] + 41000\n",
    "test"
   ]
  },
  {
   "cell_type": "code",
   "execution_count": 39,
   "id": "383e4127-818c-4703-89c3-682e11a8e9b3",
   "metadata": {},
   "outputs": [],
   "source": [
    "test.to_csv(\"Namuna41000.csv\", index = False)"
   ]
  },
  {
   "cell_type": "code",
   "execution_count": null,
   "id": "0083bb9b-2376-4f2e-8062-7e3428da71d2",
   "metadata": {},
   "outputs": [],
   "source": []
  }
 ],
 "metadata": {
  "kernelspec": {
   "display_name": "Python 3 (ipykernel)",
   "language": "python",
   "name": "python3"
  },
  "language_info": {
   "codemirror_mode": {
    "name": "ipython",
    "version": 3
   },
   "file_extension": ".py",
   "mimetype": "text/x-python",
   "name": "python",
   "nbconvert_exporter": "python",
   "pygments_lexer": "ipython3",
   "version": "3.10.7"
  }
 },
 "nbformat": 4,
 "nbformat_minor": 5
}
