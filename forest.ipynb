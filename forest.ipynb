{
 "cells": [
  {
   "cell_type": "code",
   "execution_count": 18,
   "id": "d1a38f56-f9d8-4580-af3b-3e286a5c5a21",
   "metadata": {},
   "outputs": [],
   "source": [
    "# Import necessary libraries\n",
    "import pandas as pd\n",
    "from sklearn.tree import DecisionTreeRegressor\n",
    "from sklearn.model_selection import train_test_split, GridSearchCV\n",
    "from sklearn.metrics import mean_absolute_percentage_error\n",
    "from sklearn.feature_extraction.text import TfidfVectorizer\n",
    "from sklearn.preprocessing import StandardScaler\n",
    "from sklearn.decomposition import TruncatedSVD\n",
    "from sklearn.decomposition import PCA"
   ]
  },
  {
   "cell_type": "code",
   "execution_count": 2,
   "id": "f8705d2f-02ce-4045-8421-6c8a270e5eee",
   "metadata": {},
   "outputs": [
    {
     "name": "stdout",
     "output_type": "stream",
     "text": [
      "C:\\Users\\templ\\OneDrive\\Desktop\\AI\\Hackathon\\Amazon\n"
     ]
    }
   ],
   "source": [
    "import os\n",
    "\n",
    "os.chdir('..') # Change to parent directory\n",
    "cwd = os.getcwd() # Get current working directory\n",
    "print(cwd)"
   ]
  },
  {
   "cell_type": "code",
   "execution_count": 3,
   "id": "ffc88313-e3fe-4f0e-ae61-1769311e5c8d",
   "metadata": {},
   "outputs": [],
   "source": [
    "# Read the dataset using Dask\n",
    "dataset = pd.read_csv('dataset/ProductsumySummary.csv', on_bad_lines='skip', encoding='utf-8', engine='python')\n",
    "# dataset =  dataset.sample(n=20000)"
   ]
  },
  {
   "cell_type": "code",
   "execution_count": 4,
   "id": "17c11cbe-8464-47ca-91ff-ecf78f10d1b5",
   "metadata": {},
   "outputs": [
    {
     "data": {
      "text/plain": [
       "Index(['PRODUCT_ID', 'product_summary', 'PRODUCT_TYPE_ID', 'PRODUCT_LENGTH'], dtype='object')"
      ]
     },
     "execution_count": 4,
     "metadata": {},
     "output_type": "execute_result"
    }
   ],
   "source": [
    "dataset.columns\n"
   ]
  },
  {
   "cell_type": "code",
   "execution_count": 5,
   "id": "5783994b-031d-4d5a-8f86-90ba08d9fd0f",
   "metadata": {},
   "outputs": [
    {
     "data": {
      "text/html": [
       "<div>\n",
       "<style scoped>\n",
       "    .dataframe tbody tr th:only-of-type {\n",
       "        vertical-align: middle;\n",
       "    }\n",
       "\n",
       "    .dataframe tbody tr th {\n",
       "        vertical-align: top;\n",
       "    }\n",
       "\n",
       "    .dataframe thead th {\n",
       "        text-align: right;\n",
       "    }\n",
       "</style>\n",
       "<table border=\"1\" class=\"dataframe\">\n",
       "  <thead>\n",
       "    <tr style=\"text-align: right;\">\n",
       "      <th></th>\n",
       "      <th>PRODUCT_ID</th>\n",
       "      <th>product_summary</th>\n",
       "      <th>PRODUCT_TYPE_ID</th>\n",
       "      <th>PRODUCT_LENGTH</th>\n",
       "    </tr>\n",
       "  </thead>\n",
       "  <tbody>\n",
       "    <tr>\n",
       "      <th>0</th>\n",
       "      <td>1796785</td>\n",
       "      <td>arya farm health drink protein energi chocol d...</td>\n",
       "      <td>0</td>\n",
       "      <td>984.251967</td>\n",
       "    </tr>\n",
       "    <tr>\n",
       "      <th>1</th>\n",
       "      <td>2988520</td>\n",
       "      <td>wild forest honey 100 natur wild forest honey 1kg</td>\n",
       "      <td>0</td>\n",
       "      <td>787.401574</td>\n",
       "    </tr>\n",
       "    <tr>\n",
       "      <th>2</th>\n",
       "      <td>2264065</td>\n",
       "      <td>amwel barnyard millet flour samak atta pack tw...</td>\n",
       "      <td>0</td>\n",
       "      <td>590.551180</td>\n",
       "    </tr>\n",
       "    <tr>\n",
       "      <th>3</th>\n",
       "      <td>259987</td>\n",
       "      <td>mineria en andalucia historia de la mina de hu...</td>\n",
       "      <td>0</td>\n",
       "      <td>744.093000</td>\n",
       "    </tr>\n",
       "    <tr>\n",
       "      <th>4</th>\n",
       "      <td>1388680</td>\n",
       "      <td>pur attitud relax rest renew beauti booster di...</td>\n",
       "      <td>0</td>\n",
       "      <td>157.000000</td>\n",
       "    </tr>\n",
       "    <tr>\n",
       "      <th>...</th>\n",
       "      <td>...</td>\n",
       "      <td>...</td>\n",
       "      <td>...</td>\n",
       "      <td>...</td>\n",
       "    </tr>\n",
       "    <tr>\n",
       "      <th>301726</th>\n",
       "      <td>839691</td>\n",
       "      <td>util basket accentu earthi color rustic overto...</td>\n",
       "      <td>13416</td>\n",
       "      <td>1200.000000</td>\n",
       "    </tr>\n",
       "    <tr>\n",
       "      <th>301727</th>\n",
       "      <td>1845315</td>\n",
       "      <td>road trip light travel hat box uniqu featur ma...</td>\n",
       "      <td>13416</td>\n",
       "      <td>1600.000000</td>\n",
       "    </tr>\n",
       "    <tr>\n",
       "      <th>301728</th>\n",
       "      <td>1614426</td>\n",
       "      <td>slpr natur water hyacinth storag basket bin ha...</td>\n",
       "      <td>13416</td>\n",
       "      <td>1420.000000</td>\n",
       "    </tr>\n",
       "    <tr>\n",
       "      <th>301729</th>\n",
       "      <td>1913923</td>\n",
       "      <td>begal 6-pack plastic storag box storag bin bla...</td>\n",
       "      <td>13416</td>\n",
       "      <td>1480.000000</td>\n",
       "    </tr>\n",
       "    <tr>\n",
       "      <th>301730</th>\n",
       "      <td>1368613</td>\n",
       "      <td>adida woman 's essenti linear full-zip hoodi m...</td>\n",
       "      <td>13420</td>\n",
       "      <td>1290.000000</td>\n",
       "    </tr>\n",
       "  </tbody>\n",
       "</table>\n",
       "<p>301731 rows × 4 columns</p>\n",
       "</div>"
      ],
      "text/plain": [
       "        PRODUCT_ID                                    product_summary  \\\n",
       "0          1796785  arya farm health drink protein energi chocol d...   \n",
       "1          2988520  wild forest honey 100 natur wild forest honey 1kg   \n",
       "2          2264065  amwel barnyard millet flour samak atta pack tw...   \n",
       "3           259987  mineria en andalucia historia de la mina de hu...   \n",
       "4          1388680  pur attitud relax rest renew beauti booster di...   \n",
       "...            ...                                                ...   \n",
       "301726      839691  util basket accentu earthi color rustic overto...   \n",
       "301727     1845315  road trip light travel hat box uniqu featur ma...   \n",
       "301728     1614426  slpr natur water hyacinth storag basket bin ha...   \n",
       "301729     1913923  begal 6-pack plastic storag box storag bin bla...   \n",
       "301730     1368613  adida woman 's essenti linear full-zip hoodi m...   \n",
       "\n",
       "        PRODUCT_TYPE_ID  PRODUCT_LENGTH  \n",
       "0                     0      984.251967  \n",
       "1                     0      787.401574  \n",
       "2                     0      590.551180  \n",
       "3                     0      744.093000  \n",
       "4                     0      157.000000  \n",
       "...                 ...             ...  \n",
       "301726            13416     1200.000000  \n",
       "301727            13416     1600.000000  \n",
       "301728            13416     1420.000000  \n",
       "301729            13416     1480.000000  \n",
       "301730            13420     1290.000000  \n",
       "\n",
       "[301731 rows x 4 columns]"
      ]
     },
     "execution_count": 5,
     "metadata": {},
     "output_type": "execute_result"
    }
   ],
   "source": [
    "dataset"
   ]
  },
  {
   "cell_type": "code",
   "execution_count": 7,
   "id": "90a5c4bb-e43a-463d-a18d-fb45788ae268",
   "metadata": {},
   "outputs": [],
   "source": [
    "df = dataset"
   ]
  },
  {
   "cell_type": "code",
   "execution_count": 13,
   "id": "b4b67f21-ae88-49d7-a127-10144354d6a3",
   "metadata": {},
   "outputs": [],
   "source": [
    "# Drop rows containing NaN values in product_summary column\n",
    "df = df.dropna(subset=['product_summary'])\n",
    "\n",
    "# Apply tfidf vectorizer to product_summary column\n",
    "tfidf = TfidfVectorizer()\n",
    "X_tfidf = tfidf.fit_transform(df['product_summary'])\n",
    "\n",
    "# Separate the predictor variables (X_tfidf) from the target variable (Y) and apply StandardScaler\n",
    "Y = df['PRODUCT_LENGTH']\n",
    "scaler = StandardScaler()\n",
    "Y_scaled = scaler.fit_transform(Y.to_numpy().reshape(-1, 1))\n",
    "\n",
    "# Include PRODUCT_ID and PRODUCT_TYPE_ID as additional predictor variables\n",
    "X = df[['PRODUCT_ID', 'PRODUCT_TYPE_ID']].to_numpy()"
   ]
  },
  {
   "cell_type": "code",
   "execution_count": 15,
   "id": "15c5a327-8976-4ce4-b218-c7e1d1c01c9a",
   "metadata": {},
   "outputs": [],
   "source": [
    "# Perform truncated SVD on the combined predictor variables\n",
    "svd = TruncatedSVD(n_components=50, random_state=42)\n",
    "X_svd = svd.fit_transform(X_tfidf)\n",
    "\n",
    "# Combine the SVD features with the additional predictor variables\n",
    "X_combined = pd.concat([pd.DataFrame(X), pd.DataFrame(X_svd)], axis=1)\n",
    "\n",
    "# Apply PCA to the combined predictor variables\n",
    "pca = PCA()\n",
    "X_pca = pca.fit_transform(X_combined)\n",
    "\n",
    "# Split the data into training and testing sets\n",
    "X_train, X_test, Y_train, Y_test = train_test_split(X_pca, Y_scaled, test_size=0.2, random_state=42)"
   ]
  },
  {
   "cell_type": "code",
   "execution_count": 19,
   "id": "26cc70af-542f-4030-873d-92f028104739",
   "metadata": {},
   "outputs": [
    {
     "data": {
      "text/plain": [
       "array([[ 2.97865819e+05, -4.35288746e+03,  1.82480749e-04, ...,\n",
       "        -1.78366817e-02,  2.62091977e-02,  5.20881831e-02],\n",
       "       [ 1.48960003e+06, -5.72055702e+03, -1.58817846e-02, ...,\n",
       "         1.12339844e-03, -4.08947337e-02, -1.56499397e-02],\n",
       "       [ 7.65145512e+05, -4.88915151e+03, -6.18801345e-03, ...,\n",
       "        -3.78248916e-03,  4.94790036e-03,  2.09231478e-02],\n",
       "       ...,\n",
       "       [ 1.15522336e+05,  9.27238416e+03, -1.05256764e-01, ...,\n",
       "        -5.59324977e-03, -5.99526167e-04,  1.94395191e-02],\n",
       "       [ 4.15019139e+05,  8.92867274e+03, -8.66440767e-02, ...,\n",
       "        -5.08612933e-03,  5.54980689e-02,  4.87487076e-02],\n",
       "       [-1.30290497e+05,  9.55848627e+03, -1.16676902e-01, ...,\n",
       "         2.02227712e-02,  7.11821807e-03,  3.08074172e-02]])"
      ]
     },
     "execution_count": 19,
     "metadata": {},
     "output_type": "execute_result"
    }
   ],
   "source": [
    "X_pca"
   ]
  },
  {
   "cell_type": "code",
   "execution_count": 21,
   "id": "d2d70f9d-0cd1-4731-9823-42eeb5fc1406",
   "metadata": {},
   "outputs": [],
   "source": [
    "# Define the parameter grid to search\n",
    "param_grid = {\n",
    "    'max_depth': [5, 10, 15, 20],\n",
    "    'min_samples_split': [2, 5, 10],\n",
    "    'min_samples_leaf': [1, 2, 4],\n",
    "    'max_features': ['auto', 'sqrt']\n",
    "}"
   ]
  },
  {
   "cell_type": "code",
   "execution_count": 42,
   "id": "47f88d03-27fc-4451-a756-2e18d3afb530",
   "metadata": {},
   "outputs": [],
   "source": [
    "# Train the decision tree model using GridSearchCV to find the best hyperparameters\n",
    "model = GridSearchCV(\n",
    "    DecisionTreeRegressor(random_state=42),\n",
    "    param_grid,\n",
    "    cv=5,\n",
    "    n_jobs=-1\n",
    ")\n",
    "model.fit(X_train, Y_train)\n",
    "\n",
    "# Make predictions on the test set using the best model\n",
    "Y_pred_scaled = model.predict(X_test)\n",
    "\n",
    "# Inverse transform the scaled predictions to get the actual predictions\n",
    "# Y_pred = scaler.inverse_transform(Y_pred_scaled)\n"
   ]
  },
  {
   "cell_type": "code",
   "execution_count": 25,
   "id": "c3e73f0d-4a64-4289-8b57-c8b6e55ada96",
   "metadata": {},
   "outputs": [],
   "source": [
    "# Inverse transform the scaled predictions to get the actual predictions\n",
    "Y_pred = scaler.inverse_transform(Y_pred_scaled.reshape(-1, 1))\n"
   ]
  },
  {
   "cell_type": "code",
   "execution_count": 26,
   "id": "e538d99a-1285-49f4-904a-1b94b79e1214",
   "metadata": {},
   "outputs": [
    {
     "name": "stdout",
     "output_type": "stream",
     "text": [
      "Best Hyperparameters: {'max_depth': 10, 'max_features': 'sqrt', 'min_samples_leaf': 1, 'min_samples_split': 10}\n",
      "Score: 0\n"
     ]
    }
   ],
   "source": [
    "# Calculate the evaluation metric score\n",
    "score = max(0, 100*(1-mean_absolute_percentage_error(Y_test, Y_pred)))\n",
    "\n",
    "# Print the best hyperparameters and the score\n",
    "print(\"Best Hyperparameters:\", model.best_params_)\n",
    "print(\"Score:\", score)"
   ]
  },
  {
   "cell_type": "code",
   "execution_count": 28,
   "id": "2904152a-d4b9-47a7-96b9-119415403d2c",
   "metadata": {},
   "outputs": [],
   "source": [
    "import pickle\n",
    "# Save the KMeans model\n",
    "with open('Decision tree.pkl', 'wb') as f:\n",
    "    pickle.dump(model, f)\n",
    "\n",
    "with open('treeSC.pkl', 'wb') as f:\n",
    "    pickle.dump(scaler, f)    \n",
    "    \n",
    "# Save the TF-IDF vectorizers\n",
    "with open('DTtfidf.pkl', 'wb') as f:\n",
    "    pickle.dump(tfidf, f)\n",
    "\n",
    "with open('pca.pkl', 'wb') as f:\n",
    "    pickle.dump(pca, f)"
   ]
  },
  {
   "cell_type": "code",
   "execution_count": 40,
   "id": "4ad58933-33a0-4776-8807-68dbd0edfde5",
   "metadata": {},
   "outputs": [],
   "source": [
    "import matplotlib.pyplot as plt\n",
    "import numpy as np"
   ]
  },
  {
   "cell_type": "code",
   "execution_count": 41,
   "id": "09364e14-1c38-4478-8a4d-e60cf1862cb7",
   "metadata": {},
   "outputs": [
    {
     "data": {
      "image/png": "[encoded data removed]",
      "text/plain": [
       "<Figure size 1000x500 with 1 Axes>"
      ]
     },
     "metadata": {},
     "output_type": "display_data"
    }
   ],
   "source": [
    "plt.figure(figsize=(10, 5))\n",
    "plt.title('Feature Importances')\n",
    "plt.bar(range(len(feature_importances)), feature_importances[sorted_indices])\n",
    "plt.xticks(range(len(feature_importances)), np.array(feature_names)[sorted_indices], rotation=90)\n",
    "plt.tight_layout()\n",
    "plt.savefig('feature_importances.jpg')"
   ]
  },
  {
   "cell_type": "code",
   "execution_count": null,
   "id": "4a3459b0-d2e3-45be-8896-3d5e643ac027",
   "metadata": {},
   "outputs": [],
   "source": [
    "plt.savefig('myplot.jpg', dpi=300, bbox_inches='tight')"
   ]
  },
  {
   "cell_type": "code",
   "execution_count": 43,
   "id": "f31141d2-95c3-4ba9-b749-f031faefab4b",
   "metadata": {},
   "outputs": [],
   "source": []
  },
  {
   "cell_type": "code",
   "execution_count": null,
   "id": "35acb821-dd71-4561-bf22-47147d02ef83",
   "metadata": {},
   "outputs": [],
   "source": []
  }
 ],
 "metadata": {
  "kernelspec": {
   "display_name": "Python 3 (ipykernel)",
   "language": "python",
   "name": "python3"
  },
  "language_info": {
   "codemirror_mode": {
    "name": "ipython",
    "version": 3
   },
   "file_extension": ".py",
   "mimetype": "text/x-python",
   "name": "python",
   "nbconvert_exporter": "python",
   "pygments_lexer": "ipython3",
   "version": "3.10.7"
  }
 },
 "nbformat": 4,
 "nbformat_minor": 5
}
